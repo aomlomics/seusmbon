{
 "cells": [
  {
   "cell_type": "code",
   "execution_count": 1,
   "id": "17d43b6e",
   "metadata": {},
   "outputs": [],
   "source": [
    "import numpy as np\n",
    "import pandas as pd\n",
    "import matplotlib.pyplot as plt\n",
    "%matplotlib inline"
   ]
  },
  {
   "cell_type": "code",
   "execution_count": 2,
   "id": "ba124a4e",
   "metadata": {},
   "outputs": [],
   "source": [
    "#Setting display preferences for output\n",
    "pd.set_option('display.max_rows', 500)\n",
    "pd.set_option('display.max_columns', 500)\n",
    "pd.set_option('display.width', 1000)"
   ]
  },
  {
   "cell_type": "code",
   "execution_count": 3,
   "id": "d57c312e",
   "metadata": {},
   "outputs": [],
   "source": [
    "#Reading NIMARKS project metadata spreadsheet\n",
    "path_md = 'seusmbon_NOAA_MIMARKS_v1.0.8.survey.water.6.0_20240614.xlsx'\n",
    "df_md = pd.read_excel(path_md, sheet_name='water_sample_data', skiprows=8)"
   ]
  },
  {
   "cell_type": "code",
   "execution_count": 4,
   "id": "8ac90ebf",
   "metadata": {},
   "outputs": [],
   "source": [
    "#Reading cruise metadata measurements spreadsheet\n",
    "path_ws = 'WSMasterSampleLog(Updated 4-25-24).xlsx'\n",
    "df_ws = pd.read_excel(path_ws, sheet_name='All Depths')\n",
    "df_ws['Station'] = [str(x) for x in df_ws.Station]"
   ]
  },
  {
   "cell_type": "code",
   "execution_count": 5,
   "id": "36b639b0-1877-4709-bcfa-657d1881ab65",
   "metadata": {},
   "outputs": [],
   "source": [
    "# Checking Metadata Depth Categorization #"
   ]
  },
  {
   "cell_type": "code",
   "execution_count": 6,
   "id": "07634eb2-8a82-43b4-bbf3-a60a52874dd6",
   "metadata": {},
   "outputs": [
    {
     "data": {
      "text/plain": [
       "depth_category\n",
       "Surface           2644\n",
       "Bottom             367\n",
       "not applicable     104\n",
       "MID                  9\n",
       "0                    6\n",
       "BLANK                3\n",
       "Name: count, dtype: int64"
      ]
     },
     "execution_count": 6,
     "metadata": {},
     "output_type": "execute_result"
    }
   ],
   "source": [
    "df_md['depth_category'].value_counts()"
   ]
  },
  {
   "cell_type": "code",
   "execution_count": 7,
   "id": "f8e9b263-f8fd-4868-bcb2-f06b158e4736",
   "metadata": {},
   "outputs": [
    {
     "data": {
      "text/plain": [
       "depth_category\n",
       "Surface    2644\n",
       "Bottom      367\n",
       "Name: count, dtype: int64"
      ]
     },
     "execution_count": 7,
     "metadata": {},
     "output_type": "execute_result"
    }
   ],
   "source": [
    "#Filter to only 'Surface' or 'Bottom' samples\n",
    "options = ['Surface', 'Bottom']\n",
    "dfiltered_df_md = df_md[df_md['depth_category'].isin(options)].copy()\n",
    "#Check the filtering\n",
    "dfiltered_df_md['depth_category'].value_counts()"
   ]
  },
  {
   "cell_type": "code",
   "execution_count": 8,
   "id": "45e5b2b1-a823-45c5-bc2b-8375d49398b6",
   "metadata": {},
   "outputs": [],
   "source": [
    "# Aligning Cruise Metadata Depth Categorization to Match Metadata Depth Categorization #"
   ]
  },
  {
   "cell_type": "code",
   "execution_count": 9,
   "id": "dc7dd7c1-4ac6-424f-85f6-829e085ff790",
   "metadata": {},
   "outputs": [
    {
     "data": {
      "text/plain": [
       "F or CTD\n",
       "C      4422\n",
       "CTD     821\n",
       "Name: count, dtype: int64"
      ]
     },
     "execution_count": 9,
     "metadata": {},
     "output_type": "execute_result"
    }
   ],
   "source": [
    "#Filter to only eDNA stations (all C or CTD)\n",
    "options = ['CTD', 'C']\n",
    "cfiltered_df_ws = df_ws[df_ws['F or CTD'].isin(options)].copy()\n",
    "#Check the filtering\n",
    "cfiltered_df_ws['F or CTD'].value_counts()"
   ]
  },
  {
   "cell_type": "code",
   "execution_count": 10,
   "id": "09c458b1-d54a-48a7-9e19-cebcd384c9c1",
   "metadata": {},
   "outputs": [
    {
     "data": {
      "image/png": "[encoded data removed]",
      "text/plain": [
       "<Figure size 640x480 with 1 Axes>"
      ]
     },
     "metadata": {},
     "output_type": "display_data"
    }
   ],
   "source": [
    "#Visually show the distribution of cruise depth measurements\n",
    "plt.hist(cfiltered_df_ws['Depth'], bins=50, color='skyblue', edgecolor='black')\n",
    "plt.xlabel('depths')\n",
    "plt.show()"
   ]
  },
  {
   "cell_type": "code",
   "execution_count": 11,
   "id": "53adff5c-27eb-4b33-ba74-327c437b84b5",
   "metadata": {},
   "outputs": [
    {
     "data": {
      "text/plain": [
       "0                                                  Rank\n",
       "1                                              Keyfield\n",
       "2                                                Cruise\n",
       "3                                            Date (GMT)\n",
       "4                                           Temperature\n",
       "5                                              Salinity\n",
       "6                                          Latitude Deg\n",
       "7                                          Latitude Min\n",
       "8                                      Latitude Decimal\n",
       "9                                         Longitude Deg\n",
       "10                                        Longitude Min\n",
       "11                                    Longitude Decimal\n",
       "12                                           Time (GMT)\n",
       "13                                              Station\n",
       "14                                             F or CTD\n",
       "15                                                Depth\n",
       "16                                   Chlorophyll Tube #\n",
       "17                                     Avg chl a (ug/L)\n",
       "18                               Avg Phaeophytin (ug/L)\n",
       "19                                     Nutrients Tube #\n",
       "20                                            NH4  (uM)\n",
       "21                                            PO4  (uM)\n",
       "22                                         NO3+NO2 (uM)\n",
       "23                                           NO3   (uM)\n",
       "24                                            NO2  (uM)\n",
       "25                                           Si    (uM)\n",
       "26                         DIC Bottle # Manzello/Enochs\n",
       "27                   TA with CRM Correction (uequiv/kg)\n",
       "28                         CRM Corrected TCO2 (µmol/kg)\n",
       "29                              DIC Bottle # Wanninkhof\n",
       "30                                        DIC (umol/kg)\n",
       "31                                                   pH\n",
       "32                                      Oxygen (umol/L)\n",
       "33                          Oxygen (mg/L) from CTD logs\n",
       "34                                                Notes\n",
       "35                     Seapoint Chl Fluorometer Voltage\n",
       "36             Seapoint Chl Fluorometer Calculated Conc\n",
       "37                        Seapoint Chl Fluorometer Gain\n",
       "38        Turner C7 Chlorophyll-a Raw Fluoresence Units\n",
       "39                 Turner C7 CDOM Raw Fluoresence Units\n",
       "40            Turner C7 Turbidity Raw Fluoresence Units\n",
       "41    Turner C3 Primary Chlorophyll-a Raw Fluoresenc...\n",
       "42         Turner C3 Primary CDOM Raw Fluoresence Units\n",
       "43    Turner C3 Primary phycoeryth Raw Fluoresence U...\n",
       "44    Turner C3 Secondary Chlorophyll-a Raw Fluorese...\n",
       "45    Turner C3 Secondary Turbidity Raw Fluoresence ...\n",
       "46       Turner C3 Secondary CDOM Raw Fluoresence Units\n",
       "47    Turner C3 Secondary phycoeryth Raw Fluoresence...\n",
       "48                WETlabs Fluorescence Wetstar (mg/m^3)\n",
       "dtype: object"
      ]
     },
     "execution_count": 11,
     "metadata": {},
     "output_type": "execute_result"
    }
   ],
   "source": [
    "pd.Series(list(cfiltered_df_ws.columns))"
   ]
  },
  {
   "cell_type": "code",
   "execution_count": 12,
   "id": "32ed0fee-bef1-4715-9d75-70754171d822",
   "metadata": {},
   "outputs": [
    {
     "data": {
      "text/plain": [
       "depth_category\n",
       "Surface    2644\n",
       "Bottom      367\n",
       "Name: count, dtype: int64"
      ]
     },
     "execution_count": 12,
     "metadata": {},
     "output_type": "execute_result"
    }
   ],
   "source": [
    "#Creating a list to track indices of the dataframe\n",
    "indices = cfiltered_df_ws.index.tolist()\n",
    "\n",
    "#Creating a new list to add as a new column categorizing depths\n",
    "depth_cat = []\n",
    "\n",
    "#Iterating through to compare stations and categorize depths\n",
    "n = 0\n",
    "for i in range(len(indices) - 1):\n",
    "    current_depth = cfiltered_df_ws.loc[indices[i], 'Depth']\n",
    "    current_station = cfiltered_df_ws.loc[indices[i], 'Station']\n",
    "    next_depth = cfiltered_df_ws.loc[indices[i + 1], 'Depth']\n",
    "    next_station = cfiltered_df_ws.loc[indices[i + 1], 'Station']\n",
    "    #Surface site\n",
    "    if current_depth == 0:\n",
    "        depth_cat.append(\"Surface\")\n",
    "        n = 0\n",
    "    else:\n",
    "        #Bottom site for a station with multiple measurements\n",
    "        if current_station == next_station and next_depth != 0 and n == 0:\n",
    "            depth_cat.append(\"Bottom\")\n",
    "            n = n + 1\n",
    "        else:\n",
    "            #Bottom site for a station with two measurements, with the bottom measurement first\n",
    "            if current_station == next_station and next_depth == 0 and n == 0:\n",
    "                depth_cat.append(\"Bottom\")\n",
    "            else:\n",
    "                #Bottom site for a station with two measurements, with the surface measurement first\n",
    "                if current_station != next_station and current_depth != 0:\n",
    "                    depth_cat.append(\"Bottom\")\n",
    "                else:\n",
    "                    #Mid-depth site measurement\n",
    "                    depth_cat.append(\"MID\")\n",
    "\n",
    "if cfiltered_df_ws.loc[indices[len(indices) - 1], 'Depth'] == 0:\n",
    "    depth_cat.append(\"Surface\")\n",
    "if cfiltered_df_ws.loc[indices[len(indices) - 1], 'Depth'] != 0:\n",
    "    depth_cat.append(\"Bottom\")\n",
    "\n",
    "#Adding the new column\n",
    "cfiltered_df_ws.insert(16, 'Depth Category', depth_cat)"
   ]
  },
  {
   "cell_type": "code",
   "execution_count": 29,
   "id": "ac5c42b1-0ca3-470c-a333-5895806e4e90",
   "metadata": {},
   "outputs": [],
   "source": [
    "#Filter to only surface and bottom stations\n",
    "options = ['Surface', 'Bottom']\n",
    "dcfiltered_df_ws = cfiltered_df_ws[cfiltered_df_ws['Depth Category'].isin(options)].copy()"
   ]
  },
  {
   "cell_type": "code",
   "execution_count": 30,
   "id": "c87f3650-faad-41a5-a6d2-725a56e27fab",
   "metadata": {},
   "outputs": [
    {
     "data": {
      "text/plain": [
       "Depth Category\n",
       "Surface    3041\n",
       "Bottom     2059\n",
       "Name: count, dtype: int64"
      ]
     },
     "execution_count": 30,
     "metadata": {},
     "output_type": "execute_result"
    }
   ],
   "source": [
    "#Check the columns for the cruise metadata\n",
    "dcfiltered_df_ws['Depth Category'].value_counts()"
   ]
  },
  {
   "cell_type": "code",
   "execution_count": 31,
   "id": "503a9a6a-7e40-4741-87c3-0388d527bb35",
   "metadata": {},
   "outputs": [
    {
     "data": {
      "text/plain": [
       "depth_category\n",
       "Surface    2644\n",
       "Bottom      367\n",
       "Name: count, dtype: int64"
      ]
     },
     "execution_count": 31,
     "metadata": {},
     "output_type": "execute_result"
    }
   ],
   "source": [
    "#Check the columns for the metadata\n",
    "dfiltered_df_md['depth_category'].value_counts()"
   ]
  },
  {
   "cell_type": "code",
   "execution_count": 32,
   "id": "fc73cd51",
   "metadata": {},
   "outputs": [
    {
     "data": {
      "text/plain": [
       "(5100, 50)"
      ]
     },
     "execution_count": 32,
     "metadata": {},
     "output_type": "execute_result"
    }
   ],
   "source": [
    "#rows, columns of cruise metadata\n",
    "dcfiltered_df_ws.shape"
   ]
  },
  {
   "cell_type": "code",
   "execution_count": 33,
   "id": "409a8d96",
   "metadata": {
    "scrolled": true
   },
   "outputs": [
    {
     "data": {
      "text/plain": [
       "(3011, 141)"
      ]
     },
     "execution_count": 33,
     "metadata": {},
     "output_type": "execute_result"
    }
   ],
   "source": [
    "#rows, columns of NIMARKS metadata\n",
    "dfiltered_df_md.shape"
   ]
  },
  {
   "cell_type": "code",
   "execution_count": 34,
   "id": "917ecf70",
   "metadata": {},
   "outputs": [],
   "source": [
    "#Merge on cruise id, station, and depth\n",
    "df_merged = pd.merge(dfiltered_df_md, dcfiltered_df_ws, left_on=['cruise_id', 'locationID', 'depth_category'], right_on=['Cruise', 'Station', 'Depth Category'], how='left')"
   ]
  },
  {
   "cell_type": "code",
   "execution_count": 36,
   "id": "0e35aaff-6bf5-40b7-8cc1-dd2ef0d2f9d2",
   "metadata": {},
   "outputs": [
    {
     "data": {
      "text/plain": [
       "(3029, 191)"
      ]
     },
     "execution_count": 36,
     "metadata": {},
     "output_type": "execute_result"
    }
   ],
   "source": [
    "df_merged.shape"
   ]
  },
  {
   "cell_type": "code",
   "execution_count": 35,
   "id": "5815ef95-65b8-4e12-94b7-42402bfbb427",
   "metadata": {},
   "outputs": [],
   "source": [
    "df_merged.to_excel(\"merged.xlsx\")"
   ]
  }
 ],
 "metadata": {
  "kernelspec": {
   "display_name": "Python 3 (ipykernel)",
   "language": "python",
   "name": "python3"
  },
  "language_info": {
   "codemirror_mode": {
    "name": "ipython",
    "version": 3
   },
   "file_extension": ".py",
   "mimetype": "text/x-python",
   "name": "python",
   "nbconvert_exporter": "python",
   "pygments_lexer": "ipython3",
   "version": "3.12.3"
  }
 },
 "nbformat": 4,
 "nbformat_minor": 5
}
